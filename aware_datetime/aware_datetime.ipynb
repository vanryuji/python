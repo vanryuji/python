{
  "nbformat": 4,
  "nbformat_minor": 0,
  "metadata": {
    "colab": {
      "name": "aware_datetime.ipynb",
      "version": "0.3.2",
      "provenance": [],
      "include_colab_link": true
    },
    "kernelspec": {
      "name": "python3",
      "display_name": "Python 3"
    }
  },
  "cells": [
    {
      "cell_type": "markdown",
      "metadata": {
        "id": "view-in-github",
        "colab_type": "text"
      },
      "source": [
        "<a href=\"https://colab.research.google.com/github/vanryuji/python/blob/master/aware_datetime/aware_datetime.ipynb\" target=\"_parent\"><img src=\"https://colab.research.google.com/assets/colab-badge.svg\" alt=\"Open In Colab\"/></a>"
      ]
    },
    {
      "cell_type": "code",
      "metadata": {
        "id": "lCxEfWLWKrs9",
        "colab_type": "code",
        "colab": {}
      },
      "source": [
        "import pytz\n",
        "import datetime\n",
        "from pytz import timezone\n",
        "from time import gmtime, strftime"
      ],
      "execution_count": 0,
      "outputs": []
    },
    {
      "cell_type": "markdown",
      "metadata": {
        "id": "4zVFeV_ENzcf",
        "colab_type": "text"
      },
      "source": [
        "# Aware datetime vs Naive datetime"
      ]
    },
    {
      "cell_type": "code",
      "metadata": {
        "id": "WpqVJtDZKvw4",
        "colab_type": "code",
        "colab": {
          "base_uri": "https://localhost:8080/",
          "height": 170
        },
        "outputId": "d4eb35d2-e637-4774-dfc3-c88d9f33566d"
      },
      "source": [
        "\n",
        "print('currnet time zone:', strftime(\"%Z\", gmtime()))\n",
        "\n",
        "\n",
        "\n",
        "### Naive datetime ###\n",
        "\n",
        "naive_datetime = datetime.datetime.now()\n",
        "print('\\nnaive datetime:')\n",
        "print(naive_datetime)\n",
        "print(naive_datetime.tzinfo)\n",
        "\n",
        "\n",
        "\n",
        "### Aware datetime ###\n",
        "\n",
        "aware_datetime = datetime.datetime.now(datetime.timezone.utc)\n",
        "print('\\naware datetime:')\n",
        "print(aware_datetime)\n",
        "print(aware_datetime.tzinfo)"
      ],
      "execution_count": 17,
      "outputs": [
        {
          "output_type": "stream",
          "text": [
            "currnet time zone: GMT\n",
            "\n",
            "naive datetime:\n",
            "2019-08-02 07:23:59.683050\n",
            "None\n",
            "\n",
            "aware datetime:\n",
            "2019-08-02 07:23:59.685236+00:00\n",
            "UTC\n"
          ],
          "name": "stdout"
        }
      ]
    },
    {
      "cell_type": "markdown",
      "metadata": {
        "id": "w_H7oz_pPBOU",
        "colab_type": "text"
      },
      "source": [
        "# How to convert string datetime of KST to UTC?"
      ]
    },
    {
      "cell_type": "code",
      "metadata": {
        "id": "RjsIULRuOHTL",
        "colab_type": "code",
        "colab": {
          "base_uri": "https://localhost:8080/",
          "height": 119
        },
        "outputId": "d107e63d-d922-46a6-9761-5da82442a847"
      },
      "source": [
        "KST = timezone('Asia/Seoul')\n",
        "\n",
        "str_datetime = '2019-08-02 00:00:00'\n",
        "naive_datetime = datetime.datetime.strptime(str_datetime, '%Y-%m-%d %H:%M:%S')\n",
        "print(naive_datetime)\n",
        "print(naive_datetime.tzinfo)\n",
        "\n",
        "kst_datetime = KST.localize(naive_datetime)\n",
        "print(kst_datetime)\n",
        "print(kst_datetime.tzinfo)\n",
        "\n",
        "use_datetime = kst_datetime.astimezone(datetime.timezone.utc)\n",
        "print(use_datetime)\n",
        "print(use_datetime.tzinfo)"
      ],
      "execution_count": 22,
      "outputs": [
        {
          "output_type": "stream",
          "text": [
            "2019-08-02 00:00:00\n",
            "None\n",
            "2019-08-02 00:00:00+09:00\n",
            "Asia/Seoul\n",
            "2019-08-01 15:00:00+00:00\n",
            "UTC\n"
          ],
          "name": "stdout"
        }
      ]
    }
  ]
}