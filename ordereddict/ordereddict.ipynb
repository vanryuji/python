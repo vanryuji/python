{
  "nbformat": 4,
  "nbformat_minor": 0,
  "metadata": {
    "colab": {
      "name": "ordereddict.ipynb",
      "version": "0.3.2",
      "provenance": [],
      "include_colab_link": true
    },
    "kernelspec": {
      "name": "python2",
      "display_name": "Python 2"
    }
  },
  "cells": [
    {
      "cell_type": "markdown",
      "metadata": {
        "id": "view-in-github",
        "colab_type": "text"
      },
      "source": [
        "<a href=\"https://colab.research.google.com/github/vanryuji/python/blob/master/ordereddict/ordereddict.ipynb\" target=\"_parent\"><img src=\"https://colab.research.google.com/assets/colab-badge.svg\" alt=\"Open In Colab\"/></a>"
      ]
    },
    {
      "cell_type": "code",
      "metadata": {
        "id": "EfLusmmjJrbi",
        "colab_type": "code",
        "outputId": "e3d99ce4-439c-4c5b-997f-bfb5a0a03d7d",
        "colab": {
          "base_uri": "https://localhost:8080/",
          "height": 34
        }
      },
      "source": [
        "!python --version"
      ],
      "execution_count": 1,
      "outputs": [
        {
          "output_type": "stream",
          "text": [
            "Python 2.7.15+\n"
          ],
          "name": "stdout"
        }
      ]
    },
    {
      "cell_type": "code",
      "metadata": {
        "id": "NMxstSbW9Six",
        "colab_type": "code",
        "colab": {}
      },
      "source": [
        "from collections import OrderedDict"
      ],
      "execution_count": 0,
      "outputs": []
    },
    {
      "cell_type": "code",
      "metadata": {
        "id": "7xF8ZRyY8Nwo",
        "colab_type": "code",
        "outputId": "12e59c9c-68c2-4082-9d73-6d9d6ed03f1d",
        "colab": {
          "base_uri": "https://localhost:8080/",
          "height": 34
        }
      },
      "source": [
        "dt1 = {}\n",
        "dt1['ddd'] ='Manchester'\n",
        "dt1['bbb'] ='London'\n",
        "dt1['aaa'] ='NewYork'\n",
        "dt1['ccc'] ='Chicago'\n",
        "dt1['eee'] ='Tokyo'\n",
        "print(dt1.keys())"
      ],
      "execution_count": 4,
      "outputs": [
        {
          "output_type": "stream",
          "text": [
            "['eee', 'aaa', 'bbb', 'ccc', 'ddd']\n"
          ],
          "name": "stdout"
        }
      ]
    },
    {
      "cell_type": "code",
      "metadata": {
        "id": "MlnMmowGrtU9",
        "colab_type": "code",
        "outputId": "e6723046-8538-424c-8519-38da4ce15dbc",
        "colab": {
          "base_uri": "https://localhost:8080/",
          "height": 34
        }
      },
      "source": [
        "dt2= OrderedDict()\n",
        "dt2['aaa'] ='NewYork'\n",
        "dt2['bbb'] ='London'\n",
        "dt2['ccc'] ='Chicago'\n",
        "dt2['ddd'] ='Manchester'\n",
        "dt2['eee'] ='Tokyo'\n",
        "print(dt2.keys())"
      ],
      "execution_count": 0,
      "outputs": [
        {
          "output_type": "stream",
          "text": [
            "odict_keys(['aaa', 'bbb', 'ccc', 'ddd', 'eee'])\n"
          ],
          "name": "stdout"
        }
      ]
    },
    {
      "cell_type": "code",
      "metadata": {
        "id": "u79rPL6f7tth",
        "colab_type": "code",
        "outputId": "33cda3d7-6d0f-4753-967a-f2e643cc1744",
        "colab": {
          "base_uri": "https://localhost:8080/",
          "height": 34
        }
      },
      "source": [
        "dt3= OrderedDict()\n",
        "dt3['ddd'] ='Manchester'\n",
        "dt3['aaa'] ='NewYork'\n",
        "dt3['ccc'] ='Chicago'\n",
        "dt3['eee'] ='Tokyo'\n",
        "dt3['bbb'] ='London'\n",
        "print(dt3.keys())"
      ],
      "execution_count": 0,
      "outputs": [
        {
          "output_type": "stream",
          "text": [
            "odict_keys(['ddd', 'aaa', 'ccc', 'eee', 'bbb'])\n"
          ],
          "name": "stdout"
        }
      ]
    },
    {
      "cell_type": "code",
      "metadata": {
        "id": "y7TlhvM19zIG",
        "colab_type": "code",
        "outputId": "8e597aa8-abac-4a77-d5a7-90cce1368594",
        "colab": {
          "base_uri": "https://localhost:8080/",
          "height": 85
        }
      },
      "source": [
        "dt4= OrderedDict()\n",
        "dt4['ddd'] ='Manchester'\n",
        "dt4['aaa'] ='NewYork'\n",
        "dt4['ccc'] ='Chicago'\n",
        "dt4['eee'] ='Tokyo'\n",
        "dt4['bbb'] ='London'\n",
        "print(dt4.popitem())\n",
        "print(dt4.popitem())\n",
        "\n",
        "dt4= OrderedDict()\n",
        "dt4['ddd'] ='Manchester'\n",
        "dt4['aaa'] ='NewYork'\n",
        "dt4['ccc'] ='Chicago'\n",
        "dt4['eee'] ='Tokyo'\n",
        "dt4['bbb'] ='London'\n",
        "print(dt4.popitem(False))\n",
        "print(dt4.popitem(False))\n"
      ],
      "execution_count": 0,
      "outputs": [
        {
          "output_type": "stream",
          "text": [
            "('bbb', 'London')\n",
            "('eee', 'Tokyo')\n",
            "('ddd', 'Manchester')\n",
            "('aaa', 'NewYork')\n"
          ],
          "name": "stdout"
        }
      ]
    },
    {
      "cell_type": "code",
      "metadata": {
        "id": "u07W8Y8BIU92",
        "colab_type": "code",
        "outputId": "df044693-b6cf-4cd8-e9f2-e70cd788b2f9",
        "colab": {
          "base_uri": "https://localhost:8080/",
          "height": 51
        }
      },
      "source": [
        "d = OrderedDict.fromkeys('abcde')\n",
        "d.move_to_end('b')\n",
        "print(''.join(d.keys()))\n",
        "\n",
        "d.move_to_end('b', last=False)\n",
        "print(''.join(d.keys()))"
      ],
      "execution_count": 0,
      "outputs": [
        {
          "output_type": "stream",
          "text": [
            "acdeb\n",
            "bacde\n"
          ],
          "name": "stdout"
        }
      ]
    }
  ]
}