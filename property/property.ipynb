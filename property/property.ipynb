{
  "nbformat": 4,
  "nbformat_minor": 0,
  "metadata": {
    "colab": {
      "name": "property.ipynb",
      "version": "0.3.2",
      "provenance": [],
      "toc_visible": true,
      "include_colab_link": true
    },
    "kernelspec": {
      "name": "python3",
      "display_name": "Python 3"
    }
  },
  "cells": [
    {
      "cell_type": "markdown",
      "metadata": {
        "id": "view-in-github",
        "colab_type": "text"
      },
      "source": [
        "<a href=\"https://colab.research.google.com/github/vanryuji/python/blob/master/property/property.ipynb\" target=\"_parent\"><img src=\"https://colab.research.google.com/assets/colab-badge.svg\" alt=\"Open In Colab\"/></a>"
      ]
    },
    {
      "cell_type": "code",
      "metadata": {
        "id": "6lpOktJZqPnV",
        "colab_type": "code",
        "outputId": "fec9a698-4e7d-41ae-e54f-d333d8c4b503",
        "colab": {
          "base_uri": "https://localhost:8080/",
          "height": 34
        }
      },
      "source": [
        "!python --version"
      ],
      "execution_count": 1,
      "outputs": [
        {
          "output_type": "stream",
          "text": [
            "Python 3.6.7\n"
          ],
          "name": "stdout"
        }
      ]
    },
    {
      "cell_type": "markdown",
      "metadata": {
        "id": "5p4SHsisJ6D4",
        "colab_type": "text"
      },
      "source": [
        "# property"
      ]
    },
    {
      "cell_type": "code",
      "metadata": {
        "id": "Im4S1Xm98qUp",
        "colab_type": "code",
        "outputId": "449df488-d977-428d-f84a-95d646d570f5",
        "colab": {
          "base_uri": "https://localhost:8080/",
          "height": 51
        }
      },
      "source": [
        "# test1\n",
        "\n",
        "class Celsius:\n",
        "    def __init__(self, temperature = 0):\n",
        "        self.temperature = temperature\n",
        "\n",
        "    def to_fahrenheit(self):\n",
        "        return (self.temperature * 1.8) + 32\n",
        "    \n",
        "    \n",
        "test1 = Celsius()\n",
        "test1.temperature = 37\n",
        "print(test1.temperature)\n",
        "print(test1.__dict__)"
      ],
      "execution_count": 2,
      "outputs": [
        {
          "output_type": "stream",
          "text": [
            "37\n",
            "{'temperature': 37}\n"
          ],
          "name": "stdout"
        }
      ]
    },
    {
      "cell_type": "code",
      "metadata": {
        "id": "TBhME41fGYPk",
        "colab_type": "code",
        "outputId": "38e3d97a-430e-42de-a779-6cbfec3af2fd",
        "colab": {
          "base_uri": "https://localhost:8080/",
          "height": 385
        }
      },
      "source": [
        "# test2\n",
        "\n",
        "class Celsius:\n",
        "    def __init__(self, temperature = 0):\n",
        "        self.set_temperature(temperature)\n",
        "\n",
        "    def to_fahrenheit(self):\n",
        "        return (self.get_temperature() * 1.8) + 32\n",
        "\n",
        "    # new update\n",
        "    def get_temperature(self):\n",
        "        return self._temperature\n",
        "\n",
        "    def set_temperature(self, value):\n",
        "        if value < -273:\n",
        "            raise ValueError(\"Temperature below -273 is not possible\")\n",
        "        self._temperature = value\n",
        "        \n",
        "        \n",
        "test2 = Celsius()        \n",
        "test2.set_temperature(10)\n",
        "print(test2.get_temperature())\n",
        "print(test2.__dict__)\n",
        "\n",
        "test2._temperature = 37\n",
        "\n",
        "print(test2._temperature)\n",
        "\n",
        "test2._temperature = -300\n",
        "print(test2._temperature)\n",
        "test2.set_temperature(-301)"
      ],
      "execution_count": 3,
      "outputs": [
        {
          "output_type": "stream",
          "text": [
            "10\n",
            "{'_temperature': 10}\n",
            "37\n",
            "-300\n"
          ],
          "name": "stdout"
        },
        {
          "output_type": "error",
          "ename": "ValueError",
          "evalue": "ignored",
          "traceback": [
            "\u001b[0;31m---------------------------------------------------------------------------\u001b[0m",
            "\u001b[0;31mValueError\u001b[0m                                Traceback (most recent call last)",
            "\u001b[0;32m<ipython-input-3-20d41141f2ed>\u001b[0m in \u001b[0;36m<module>\u001b[0;34m()\u001b[0m\n\u001b[1;32m     28\u001b[0m \u001b[0mtest2\u001b[0m\u001b[0;34m.\u001b[0m\u001b[0m_temperature\u001b[0m \u001b[0;34m=\u001b[0m \u001b[0;34m-\u001b[0m\u001b[0;36m300\u001b[0m\u001b[0;34m\u001b[0m\u001b[0;34m\u001b[0m\u001b[0m\n\u001b[1;32m     29\u001b[0m \u001b[0mprint\u001b[0m\u001b[0;34m(\u001b[0m\u001b[0mtest2\u001b[0m\u001b[0;34m.\u001b[0m\u001b[0m_temperature\u001b[0m\u001b[0;34m)\u001b[0m\u001b[0;34m\u001b[0m\u001b[0;34m\u001b[0m\u001b[0m\n\u001b[0;32m---> 30\u001b[0;31m \u001b[0mtest2\u001b[0m\u001b[0;34m.\u001b[0m\u001b[0mset_temperature\u001b[0m\u001b[0;34m(\u001b[0m\u001b[0;34m-\u001b[0m\u001b[0;36m301\u001b[0m\u001b[0;34m)\u001b[0m\u001b[0;34m\u001b[0m\u001b[0;34m\u001b[0m\u001b[0m\n\u001b[0m",
            "\u001b[0;32m<ipython-input-3-20d41141f2ed>\u001b[0m in \u001b[0;36mset_temperature\u001b[0;34m(self, value)\u001b[0m\n\u001b[1;32m     13\u001b[0m     \u001b[0;32mdef\u001b[0m \u001b[0mset_temperature\u001b[0m\u001b[0;34m(\u001b[0m\u001b[0mself\u001b[0m\u001b[0;34m,\u001b[0m \u001b[0mvalue\u001b[0m\u001b[0;34m)\u001b[0m\u001b[0;34m:\u001b[0m\u001b[0;34m\u001b[0m\u001b[0;34m\u001b[0m\u001b[0m\n\u001b[1;32m     14\u001b[0m         \u001b[0;32mif\u001b[0m \u001b[0mvalue\u001b[0m \u001b[0;34m<\u001b[0m \u001b[0;34m-\u001b[0m\u001b[0;36m273\u001b[0m\u001b[0;34m:\u001b[0m\u001b[0;34m\u001b[0m\u001b[0;34m\u001b[0m\u001b[0m\n\u001b[0;32m---> 15\u001b[0;31m             \u001b[0;32mraise\u001b[0m \u001b[0mValueError\u001b[0m\u001b[0;34m(\u001b[0m\u001b[0;34m\"Temperature below -273 is not possible\"\u001b[0m\u001b[0;34m)\u001b[0m\u001b[0;34m\u001b[0m\u001b[0;34m\u001b[0m\u001b[0m\n\u001b[0m\u001b[1;32m     16\u001b[0m         \u001b[0mself\u001b[0m\u001b[0;34m.\u001b[0m\u001b[0m_temperature\u001b[0m \u001b[0;34m=\u001b[0m \u001b[0mvalue\u001b[0m\u001b[0;34m\u001b[0m\u001b[0;34m\u001b[0m\u001b[0m\n\u001b[1;32m     17\u001b[0m \u001b[0;34m\u001b[0m\u001b[0m\n",
            "\u001b[0;31mValueError\u001b[0m: Temperature below -273 is not possible"
          ]
        }
      ]
    },
    {
      "cell_type": "code",
      "metadata": {
        "id": "WmQE0lkCGpJr",
        "colab_type": "code",
        "outputId": "7859b14d-6790-4948-b7d3-185e10a83b7b",
        "colab": {
          "base_uri": "https://localhost:8080/",
          "height": 170
        }
      },
      "source": [
        "# test3\n",
        "\n",
        "class Celsius:\n",
        "    def __init__(self, temperature = 0):\n",
        "        self.temperature = temperature\n",
        "\n",
        "    def to_fahrenheit(self):\n",
        "        return (self.temperature * 1.8) + 32\n",
        "\n",
        "    def get_temperature(self):\n",
        "        print(\"Getting value\")  # for debugging\n",
        "        return self._temperature\n",
        "\n",
        "    def set_temperature(self, value):\n",
        "        if value < -273:\n",
        "            raise ValueError(\"Temperature below -273 is not possible\")\n",
        "        print(\"Setting value\")  # for debugging\n",
        "        self._temperature = value\n",
        "\n",
        "    temperature = property(get_temperature,set_temperature)\n",
        "    \n",
        "\n",
        "test3 = Celsius()        \n",
        "test3.set_temperature(10)\n",
        "print(test3.get_temperature())\n",
        "print(test3.__dict__)\n",
        "\n",
        "test3._temperature = 37\n",
        "print(test3._temperature)\n",
        "\n",
        "test3.temperature = 37\n",
        "print(test3.temperature)"
      ],
      "execution_count": 4,
      "outputs": [
        {
          "output_type": "stream",
          "text": [
            "Setting value\n",
            "Setting value\n",
            "Getting value\n",
            "10\n",
            "{'_temperature': 10}\n",
            "37\n",
            "Setting value\n",
            "Getting value\n",
            "37\n"
          ],
          "name": "stdout"
        }
      ]
    },
    {
      "cell_type": "code",
      "metadata": {
        "id": "45i9aLb_kQQt",
        "colab_type": "code",
        "outputId": "79ee3dc2-48b6-41df-b110-300c79463a89",
        "colab": {
          "base_uri": "https://localhost:8080/",
          "height": 85
        }
      },
      "source": [
        "# test4\n",
        "\n",
        "class Celsius:\n",
        "    def __init__(self, temperature = 0):\n",
        "        self._temperature = temperature\n",
        "\n",
        "    def to_fahrenheit(self):\n",
        "        return (self.temperature * 1.8) + 32\n",
        "\n",
        "    @property\n",
        "    def temperature(self):\n",
        "        print(\"Getting value\")  # for debugging\n",
        "        return self._temperature\n",
        "\n",
        "    @temperature.setter\n",
        "    def temperature(self, value):\n",
        "        if value < -273:\n",
        "            raise ValueError(\"Temperature below -273 is not possible\")\n",
        "        print(\"Setting value\")  # for debugging\n",
        "        self._temperature = value\n",
        "        \n",
        "        \n",
        "test4 = Celsius()        \n",
        "test4.temperature = 10\n",
        "print(test4.temperature)\n",
        "print(test4.__dict__)"
      ],
      "execution_count": 5,
      "outputs": [
        {
          "output_type": "stream",
          "text": [
            "Setting value\n",
            "Getting value\n",
            "10\n",
            "{'_temperature': 10}\n"
          ],
          "name": "stdout"
        }
      ]
    }
  ]
}